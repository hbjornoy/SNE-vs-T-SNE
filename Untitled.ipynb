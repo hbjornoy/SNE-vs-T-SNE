{
 "cells": [
  {
   "cell_type": "code",
   "execution_count": 7,
   "metadata": {
    "collapsed": true
   },
   "outputs": [],
   "source": [
    "from sklearn.preprocessing import MinMaxScaler\n",
    "from sklearn.utils import check_array, check_random_state\n",
    "import numpy as np"
   ]
  },
  {
   "cell_type": "code",
   "execution_count": 8,
   "metadata": {},
   "outputs": [],
   "source": [
    "scaler =MinMaxScaler(feature_range=(0,1))"
   ]
  },
  {
   "cell_type": "code",
   "execution_count": 9,
   "metadata": {},
   "outputs": [],
   "source": [
    "random_state=123\n",
    "generator = check_random_state(random_state)\n",
    "n=100"
   ]
  },
  {
   "cell_type": "code",
   "execution_count": 11,
   "metadata": {},
   "outputs": [
    {
     "name": "stdout",
     "output_type": "stream",
     "text": [
      "max 1.27949117818\n",
      "min -0.469316502376\n"
     ]
    }
   ],
   "source": [
    "vector=generator.normal(0.5,scale=0.30,size=n)\n",
    "print('max', np.max(vector))\n",
    "print('min',np.min(vector))"
   ]
  },
  {
   "cell_type": "code",
   "execution_count": 20,
   "metadata": {},
   "outputs": [
    {
     "name": "stdout",
     "output_type": "stream",
     "text": [
      "max 1.0\n",
      "min 0.0\n"
     ]
    }
   ],
   "source": [
    "vector1=scaler.fit_transform(vector.reshape(n,1)).flatten()\n",
    "print('max', np.max(vector1))\n",
    "print('min',np.min(vector1))"
   ]
  },
  {
   "cell_type": "code",
   "execution_count": 21,
   "metadata": {},
   "outputs": [
    {
     "name": "stdout",
     "output_type": "stream",
     "text": [
      "[ 0.66441434  0.21497511  0.67645854  1.          0.55004831  0.56012971\n",
      "  0.58507368  0.23485932  0.6273763   0.27887205  0.4809063   0.7674814\n",
      "  0.42814966  0.64025977  0.72800356  0.60208951  0.31909281  0.49723816\n",
      "  0.89040088  0.2068854   0.50696295  0.45956116  0.57498645  0.68262577\n",
      "  0.8302364   0.50791565  0.69362624  0.64000093  0.6356449   0.4575342\n",
      "  0.38318682  0.36556539  0.42450942  0.60945665  0.68481019  0.60976239\n",
      "  0.46010204  0.86407874  0.81482727  0.49354568  0.41301687  0.57661057\n",
      "  0.7716721   0.6113571   0.64974618  0.5178914   0.63254398  0.81923236\n",
      "  0.5131587   0.57885657  0.59781385  0.60294458  0.31206967  0.23230451\n",
      "  0.3793556   0.58308252  0.64928429  0.46323798  0.79053504  0.5297116\n",
      "  0.5577579   0.52099916  0.57726447  0.67512211  0.6684626   0.40015242\n",
      "  0.81565037  0.36642598  0.56786382  0.5072013   0.37432304  0.54138619\n",
      "  0.42718955  0.56677969  0.62342035  0.80677557  0.60700315  0.44941986\n",
      "  0.48709219  0.57828539  0.57030556  0.80465868  0.79363923  0.49269896\n",
      "  0.46015572  0.1156217   0.46010799  0.38649144  0.49340426  0.62144728\n",
      "  0.58466932  0.54913191  0.58851019  0.53263785  0.58807049  0.\n",
      "  0.50807671  0.53525685  0.49573089  0.51688509]\n"
     ]
    }
   ],
   "source": [
    "print(vector1)"
   ]
  },
  {
   "cell_type": "code",
   "execution_count": null,
   "metadata": {
    "collapsed": true
   },
   "outputs": [],
   "source": []
  }
 ],
 "metadata": {
  "kernelspec": {
   "display_name": "Python 3",
   "language": "python",
   "name": "python3"
  },
  "language_info": {
   "codemirror_mode": {
    "name": "ipython",
    "version": 3
   },
   "file_extension": ".py",
   "mimetype": "text/x-python",
   "name": "python",
   "nbconvert_exporter": "python",
   "pygments_lexer": "ipython3",
   "version": "3.6.1"
  }
 },
 "nbformat": 4,
 "nbformat_minor": 2
}
