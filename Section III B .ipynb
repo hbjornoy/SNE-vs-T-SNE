{
 "cells": [
  {
   "cell_type": "code",
   "execution_count": null,
   "metadata": {
    "collapsed": true
   },
   "outputs": [],
   "source": [
    "import numpy as np \n",
    "from sklearn.manifold import TSNE as t_sne\n",
    "from sklearn.datasets import make_swiss_roll \n",
    "from sklearn.manifold import LocallyLinearEmbedding as lle\n",
    "import matplotlib.pyplot as plt\n",
    "\n",
    "# This import is needed to modify the way figure behaves\n",
    "from mpl_toolkits.mplot3d import Axes3D\n",
    "Axes3D\n",
    "%matplotlib inline \n",
    "\n",
    "from ipywidgets import *\n",
    "import pickle\n",
    "import time"
   ]
  },
  {
   "cell_type": "markdown",
   "metadata": {},
   "source": [
    "# Section III B: Applying the Algorithms\n",
    "\n",
    "In this section, an ordinary Swiss roll with 1000 data points and noise set to 0.01 is used. The effect of the  hyperparameters for t-SNE and LLE, perplexity and number of neighbours, is explored. "
   ]
  },
  {
   "cell_type": "markdown",
   "metadata": {},
   "source": [
    "## Importing and plotting the data set: "
   ]
  },
  {
   "cell_type": "code",
   "execution_count": null,
   "metadata": {
    "collapsed": true
   },
   "outputs": [],
   "source": [
    "X, color=make_swiss_roll(1000, noise=0.01)"
   ]
  },
  {
   "cell_type": "code",
   "execution_count": null,
   "metadata": {},
   "outputs": [],
   "source": [
    "fig = plt.figure()\n",
    "ax = fig.add_subplot(111, projection='3d')\n",
    "ax.scatter(X[:, 0], X[:, 1], X[:, 2], c=color, cmap=plt.cm.Spectral)\n",
    "ax.set_title(\"Swiss Roll Data Set\")\n",
    "plt.savefig('dataset.pdf')\n",
    "plt.show()"
   ]
  },
  {
   "cell_type": "markdown",
   "metadata": {},
   "source": [
    "## Applying t-SNE\n",
    "\n",
    "We want to apply the t-SNE algorithm, and play around with the hyperparameter, the perplexity. "
   ]
  },
  {
   "cell_type": "code",
   "execution_count": null,
   "metadata": {
    "collapsed": true
   },
   "outputs": [],
   "source": [
    "## Lager noen plottefunksjoner her nå, som senere kan flyttes til en python fil. \n",
    "def plot_tsne(color,per,Z,i):\n",
    "    \"\"\"\n",
    "    color: the colors of Z\n",
    "    per: a list of perplexities\n",
    "    Z: A list of t-SNE transformations, with different perplexities s.t. Z[i] has perplexity per[i]. \n",
    "    i: the index of the transformation we want to plot\n",
    "    \"\"\"\n",
    "    print('The perpelxity is', per[i])\n",
    "    fig = plt.figure()\n",
    "    ax = fig.add_subplot(111)\n",
    "    ax.set_title(\"t-SNE\")\n",
    "    ax.scatter(Z[i][:, 0], Z[i][:, 1], c=color, cmap=plt.cm.Spectral)\n",
    "    plt.show()\n",
    "    "
   ]
  },
  {
   "cell_type": "code",
   "execution_count": null,
   "metadata": {},
   "outputs": [],
   "source": [
    "\"\"\"Want to make an interactive plot with a wide range of perplexities. In order to do that we first create a list, Z,\n",
    "consisting of a trnsformation for each perpelxity. It takes some time to create all of the transformations, therefore \n",
    "we have made them available in a pickle\"\"\"\n",
    "\n",
    "per=np.arange(2,150,4) \n",
    "create=False\n",
    "if create: \n",
    "    Z=[]\n",
    "    times=np.zeros(len(per))\n",
    "    kl_divergence=np.zeros(len(per))\n",
    "    for i, p in enumerate(per):\n",
    "        tsne=t_sne(perplexity=p)\n",
    "        start_time=time.time()\n",
    "        Z.append(tsne.fit_transform(X))\n",
    "        times[i]= time.time()-start_time\n",
    "        kl_divergence[i]=tsne.kl_divergence_\n",
    "    pickle.dump( Z, open(\"Z_tsne.pkl\", \"wb\")) \n",
    "    pickle.dump(color, open(\"color.pkl\",\"wb\"))\n",
    "    pickle.dump(per, open(\"per.pkl\",\"wb\"))\n",
    "    pickle.dump(times, open(\"times.pkl\",\"wb\"))\n",
    "    pickle.dump(kl_divergence, open(\"kl_divergence.pkl\",\"wb\"))\n",
    "else: \n",
    "    Z= pickle.load(open(\"Z_tsne.pkl\", \"rb\"))\n",
    "    color=pickle.load(open(\"color.pkl\", \"rb\"))\n",
    "    per=pickle.load(open(\"per.pkl\", \"rb\"))\n",
    "    times=pickle.load(open(\"times.pkl\", \"rb\"))"
   ]
  },
  {
   "cell_type": "code",
   "execution_count": null,
   "metadata": {},
   "outputs": [],
   "source": [
    "interactive(plot_tsne, Z=fixed(Z), color=fixed(color),per=fixed(per), i=widgets.IntSlider(min=0,max=len(per)-1,step=1, value=0))"
   ]
  },
  {
   "cell_type": "code",
   "execution_count": null,
   "metadata": {
    "collapsed": true
   },
   "outputs": [],
   "source": [
    "\"\"\" Want to plot interesting perplexities on their own\"\"\"\n",
    "\n",
    "def plot_and_save_tsne(perplexity, filename, Z=pickle.load(open(\"Z_tsne.pkl\", \"rb\")), per=pickle.load(open(\"per.pkl\", \"rb\")), color=pickle.load(open(\"color.pkl\", \"rb\"))):\n",
    "    if np.argwhere(per==perplexity).flatten(): \n",
    "        i=np.argwhere(per==perplexity).flatten()[0]\n",
    "        fig = plt.figure()\n",
    "        ax = fig.add_subplot(111)\n",
    "        ax.set_title(\"t-SNE\")\n",
    "        ax.scatter(Z[i][:, 0], Z[i][:, 1], c=color, cmap=plt.cm.Spectral)\n",
    "        plt.savefig(filename)\n",
    "        plt.show()\n",
    "    else: \n",
    "        print('Transformation is not made for this perpexity, availiable perplexities are:', per)"
   ]
  },
  {
   "cell_type": "code",
   "execution_count": null,
   "metadata": {},
   "outputs": [],
   "source": [
    "plot_and_save_tsne(17, \"per12.pdf\")"
   ]
  },
  {
   "cell_type": "code",
   "execution_count": null,
   "metadata": {},
   "outputs": [],
   "source": [
    "plt.plot(per,kl_divergence)"
   ]
  },
  {
   "cell_type": "code",
   "execution_count": null,
   "metadata": {},
   "outputs": [],
   "source": [
    "plt.plot(per,times)\n",
    "print(per)"
   ]
  },
  {
   "cell_type": "code",
   "execution_count": null,
   "metadata": {
    "collapsed": true
   },
   "outputs": [],
   "source": []
  }
 ],
 "metadata": {
  "kernelspec": {
   "display_name": "Python 3",
   "language": "python",
   "name": "python3"
  },
  "language_info": {
   "codemirror_mode": {
    "name": "ipython",
    "version": 3
   },
   "file_extension": ".py",
   "mimetype": "text/x-python",
   "name": "python",
   "nbconvert_exporter": "python",
   "pygments_lexer": "ipython3",
   "version": "3.6.1"
  }
 },
 "nbformat": 4,
 "nbformat_minor": 2
}
