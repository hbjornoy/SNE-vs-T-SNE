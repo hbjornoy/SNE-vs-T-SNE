{
 "cells": [
  {
   "cell_type": "code",
   "execution_count": null,
   "metadata": {
    "collapsed": true
   },
   "outputs": [],
   "source": [
    "import numpy as np \n",
    "\n",
    "import matplotlib.pyplot as plt\n",
    "\n",
    "\n",
    "# This import is needed to modify the way figure behaves\n",
    "from mpl_toolkits.mplot3d import Axes3D\n",
    "Axes3D\n",
    "%matplotlib inline \n",
    "\n",
    "from ipywidgets import *\n",
    "\n",
    "import pickle_functions as PK\n",
    "import plot_functions as PL\n",
    "import helpers as HL\n",
    "\n",
    "%load_ext autoreload\n",
    "import pickle\n",
    "%autoreload 2"
   ]
  },
  {
   "cell_type": "code",
   "execution_count": null,
   "metadata": {
    "collapsed": true
   },
   "outputs": [],
   "source": [
    "folder=\"SectionC\""
   ]
  },
  {
   "cell_type": "code",
   "execution_count": null,
   "metadata": {
    "collapsed": true
   },
   "outputs": [],
   "source": [
    "noises=[0.05,0.1,1,3]\n",
    "colors=[]\n",
    "Xs=[]\n",
    "X_2ds=[]\n",
    "for i, noise in enumerate(noises):\n",
    "    color,X,X_2d=PK.get_swiss_roll(\"tsne\",folder,modification='_noise'+str(i), create=False, n=1000, noise=noise)\n",
    "    colors.append(color)\n",
    "    Xs.append(X)\n",
    "    X_2ds.append(X_2d)"
   ]
  },
  {
   "cell_type": "code",
   "execution_count": null,
   "metadata": {},
   "outputs": [],
   "source": [
    "fig = plt.figure(figsize=(10,10))\n",
    "plot=[221, 222,223,224]\n",
    "\n",
    "for i in range(len(Xs)):\n",
    "    X=Xs[i]\n",
    "    ax = fig.add_subplot(220+i+1, projection='3d')\n",
    "    ax.scatter(X[:, 0], X[:, 1], X[:, 2], c=colors[i], cmap=plt.cm.Spectral)\n",
    "    ax.set_title('Noise %1.2f' %noises[i])\n",
    "plt.show()"
   ]
  },
  {
   "cell_type": "markdown",
   "metadata": {},
   "source": [
    "# Effect of perplexity: "
   ]
  },
  {
   "cell_type": "markdown",
   "metadata": {},
   "source": [
    "## Noise 0"
   ]
  },
  {
   "cell_type": "code",
   "execution_count": null,
   "metadata": {},
   "outputs": [],
   "source": [
    "p_Z0,per0,p_times0,p_kl_divergence0,p_differences0=PK.perplexity(folder,modification='_noise0',create=True)"
   ]
  },
  {
   "cell_type": "markdown",
   "metadata": {},
   "source": [
    "## Noise 1"
   ]
  },
  {
   "cell_type": "code",
   "execution_count": null,
   "metadata": {
    "collapsed": true
   },
   "outputs": [],
   "source": [
    "p_Z1,per1,p_times1,p_kl_divergence1,p_differences1=PK.perplexity(folder,modification='_noise1',create=True)"
   ]
  },
  {
   "cell_type": "markdown",
   "metadata": {},
   "source": [
    "## Noise 2"
   ]
  },
  {
   "cell_type": "code",
   "execution_count": null,
   "metadata": {
    "collapsed": true
   },
   "outputs": [],
   "source": [
    "p_Z2,per2,p_times2,p_kl_divergence2,p_differences2=PK.perplexity(folder,modification='_noise2',create=True)"
   ]
  },
  {
   "cell_type": "markdown",
   "metadata": {},
   "source": [
    "## Noise 3"
   ]
  },
  {
   "cell_type": "code",
   "execution_count": 8,
   "metadata": {
    "collapsed": true
   },
   "outputs": [],
   "source": [
    "p_Z3,per3,p_times3,p_kl_divergence3,p_differences3=PK.perplexity(folder,modification='_noise3',create=True)"
   ]
  },
  {
   "cell_type": "markdown",
   "metadata": {},
   "source": [
    "# Effect of early exxaggeration: "
   ]
  },
  {
   "cell_type": "markdown",
   "metadata": {},
   "source": [
    "## Noise 0"
   ]
  },
  {
   "cell_type": "code",
   "execution_count": 9,
   "metadata": {},
   "outputs": [],
   "source": [
    "e_Z0,early_exaggeration0,e_times0,e_kl_divergence0,e_differences0=PK.early_exxaggeration(folder,modification='_noise0',create=True)"
   ]
  },
  {
   "cell_type": "markdown",
   "metadata": {},
   "source": [
    "## Noise 1"
   ]
  },
  {
   "cell_type": "code",
   "execution_count": 10,
   "metadata": {},
   "outputs": [],
   "source": [
    "e_Z1,early_exaggeration1,e_times1,e_kl_divergence1,e_differences1=PK.early_exxaggeration(folder,modification='_noise1',create=True)"
   ]
  },
  {
   "cell_type": "markdown",
   "metadata": {},
   "source": [
    "## Noise 2"
   ]
  },
  {
   "cell_type": "code",
   "execution_count": 11,
   "metadata": {
    "collapsed": true
   },
   "outputs": [],
   "source": [
    "e_Z2,early_exaggeration2,e_times2,e_kl_divergence2,e_differences2=PK.early_exxaggeration(folder,modification='_noise2',create=True)"
   ]
  },
  {
   "cell_type": "markdown",
   "metadata": {},
   "source": [
    "## Noise 3"
   ]
  },
  {
   "cell_type": "code",
   "execution_count": 12,
   "metadata": {
    "collapsed": true
   },
   "outputs": [],
   "source": [
    "e_Z3,early_exaggeration3,e_times3,e_kl_divergence3,e_differences3=PK.early_exxaggeration(folder,modification='_noise3',create=True)"
   ]
  },
  {
   "cell_type": "markdown",
   "metadata": {},
   "source": [
    "# Effect of perplexity learning rate: "
   ]
  },
  {
   "cell_type": "markdown",
   "metadata": {},
   "source": [
    "## Noise 0"
   ]
  },
  {
   "cell_type": "code",
   "execution_count": 13,
   "metadata": {},
   "outputs": [],
   "source": [
    "l_Z0,learning_rates0,l_times0,l_kl_divergence0,l_differences0=PK.learning_rates(folder,modification='_noise0', create=True)"
   ]
  },
  {
   "cell_type": "markdown",
   "metadata": {},
   "source": [
    "## Noise 1"
   ]
  },
  {
   "cell_type": "code",
   "execution_count": 14,
   "metadata": {
    "collapsed": true
   },
   "outputs": [],
   "source": [
    "l_Z1,learning_rates1,l_times1,l_kl_divergence1,l_differences1=PK.learning_rates(folder,modification='_noise1', create=True)"
   ]
  },
  {
   "cell_type": "markdown",
   "metadata": {},
   "source": [
    "## Noise 2"
   ]
  },
  {
   "cell_type": "code",
   "execution_count": 15,
   "metadata": {
    "collapsed": true
   },
   "outputs": [],
   "source": [
    "l_Z2,learning_rates2,l_times2,l_kl_divergence2,l_differences2=PK.learning_rates(folder,modification='_noise2', create=True)"
   ]
  },
  {
   "cell_type": "markdown",
   "metadata": {},
   "source": [
    "## Noise 3"
   ]
  },
  {
   "cell_type": "code",
   "execution_count": 16,
   "metadata": {
    "collapsed": true
   },
   "outputs": [],
   "source": [
    "l_Z3,learning_rates3,l_times3,l_kl_divergence3,l_differences3=PK.learning_rates(folder,modification='_noise3', create=True)"
   ]
  },
  {
   "cell_type": "markdown",
   "metadata": {},
   "source": [
    "# Effect of threshold: "
   ]
  },
  {
   "cell_type": "markdown",
   "metadata": {},
   "source": [
    "## Noise 0"
   ]
  },
  {
   "cell_type": "code",
   "execution_count": 17,
   "metadata": {
    "collapsed": true
   },
   "outputs": [],
   "source": [
    " t_Z0,threshold,t_times0,t_kl_divergence0,t_differences0=PK.threshold(folder, modification='_noise0',create=True)"
   ]
  },
  {
   "cell_type": "markdown",
   "metadata": {},
   "source": [
    "## Noise 1"
   ]
  },
  {
   "cell_type": "code",
   "execution_count": 18,
   "metadata": {
    "collapsed": true
   },
   "outputs": [],
   "source": [
    " t_Z1,threshold,t_times1,t_kl_divergence1,t_differences1=PK.threshold(folder, modification='_noise1',create=True)"
   ]
  },
  {
   "cell_type": "markdown",
   "metadata": {},
   "source": [
    "## Noise 2"
   ]
  },
  {
   "cell_type": "code",
   "execution_count": 19,
   "metadata": {
    "collapsed": true
   },
   "outputs": [],
   "source": [
    " t_Z2,threshold,t_times2,t_kl_divergence2,t_differences2=PK.threshold(folder, modification='_noise2',create=True)"
   ]
  },
  {
   "cell_type": "markdown",
   "metadata": {},
   "source": [
    "## Noise 3"
   ]
  },
  {
   "cell_type": "code",
   "execution_count": 20,
   "metadata": {
    "collapsed": true
   },
   "outputs": [],
   "source": [
    " t_Z3,threshold,t_times3,t_kl_divergence3,t_differences3=PK.threshold(folder, modification='_noise3',create=True)"
   ]
  },
  {
   "cell_type": "code",
   "execution_count": null,
   "metadata": {
    "collapsed": true
   },
   "outputs": [],
   "source": []
  }
 ],
 "metadata": {
  "kernelspec": {
   "display_name": "Python 3",
   "language": "python",
   "name": "python3"
  },
  "language_info": {
   "codemirror_mode": {
    "name": "ipython",
    "version": 3
   },
   "file_extension": ".py",
   "mimetype": "text/x-python",
   "name": "python",
   "nbconvert_exporter": "python",
   "pygments_lexer": "ipython3",
   "version": "3.6.1"
  }
 },
 "nbformat": 4,
 "nbformat_minor": 2
}
