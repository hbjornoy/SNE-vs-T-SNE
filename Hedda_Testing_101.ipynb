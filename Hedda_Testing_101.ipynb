{
 "cells": [
  {
   "cell_type": "code",
   "execution_count": 1,
   "metadata": {
    "collapsed": true
   },
   "outputs": [],
   "source": [
    "#  IMPORTS\n",
    "import numpy as np\n",
    "import pandas as pd\n",
    "import sklearn\n",
    "from sklearn.manifold import TSNE as t_sne\n",
    "from sklearn.datasets import make_swiss_roll \n",
    "from sklearn.manifold import LocallyLinearEmbedding as lle\n",
    "import matplotlib.pyplot as plt\n",
    "# This import is needed to modify the way figure behaves\n",
    "from mpl_toolkits.mplot3d import Axes3D\n",
    "Axes3D\n",
    "%matplotlib inline \n",
    "from ipywidgets import *"
   ]
  },
  {
   "cell_type": "markdown",
   "metadata": {},
   "source": [
    "# Importing Toy Datset: Swiss roll"
   ]
  },
  {
   "cell_type": "code",
   "execution_count": 2,
   "metadata": {
    "collapsed": true
   },
   "outputs": [],
   "source": [
    "#how to make a swiss roll dataset and apply tsne and \n",
    "X, color=make_swiss_roll(100, noise=0.5)\n",
    "n_neighbors=12\n",
    "n_components=2\n",
    "Y = lle(n_neighbors, n_components,eigen_solver='auto').fit_transform(X)\n",
    "tsne=t_sne()\n",
    "Z=tsne.fit_transform(X)"
   ]
  },
  {
   "cell_type": "markdown",
   "metadata": {},
   "source": [
    "# Variation of Noise"
   ]
  },
  {
   "cell_type": "code",
   "execution_count": 3,
   "metadata": {
    "collapsed": true
   },
   "outputs": [],
   "source": [
    "#i do not really use this one anymore\n",
    "def noise_effect(n):\n",
    "    X, color=make_swiss_roll(1000, noise=n)\n",
    "    n_neighbors=12\n",
    "    n_components=2\n",
    "    Y = lle(n_neighbors, n_components,eigen_solver='auto').fit_transform(X)\n",
    "    tsne=t_sne()\n",
    "    Z=tsne.fit_transform(X)\n",
    "    plot_comparison(X,Y,Z,color)\n",
    "    \n",
    "    \n",
    "def plot_comparison(X, Y, Z, color):\n",
    "    \"\"\" \n",
    "    Plots original data (X), LLE transformation (Y) and t-SNE transformation (Z)\n",
    "    \"\"\"\n",
    "    fig = plt.figure(figsize=(14,8))\n",
    "    ax = fig.add_subplot(131, projection='3d')\n",
    "    ax.scatter(X[:, 0], X[:, 1], X[:, 2], c=color, cmap=plt.cm.Spectral)\n",
    "    ax.set_title(\"Original data\")\n",
    "    ax = fig.add_subplot(132)\n",
    "    ax.set_title(\"LLE\")\n",
    "    ax.scatter(Y[:, 0], Y[:, 1], c=color, cmap=plt.cm.Spectral)\n",
    "    ax = fig.add_subplot(133)\n",
    "    ax.set_title(\"t-sne\")\n",
    "    ax.scatter(Z[:, 0], Z[:, 1], c=color, cmap=plt.cm.Spectral)\n",
    "    plt.show()\n",
    "    \n",
    "def make_data(N=500):\n",
    "    noise=np.linspace(0.01,1,20)\n",
    "    Xs=[]\n",
    "    Ys=[]\n",
    "    Zs=[]\n",
    "    colors=[]\n",
    "    n_neighbors=12\n",
    "    n_components=2\n",
    "    for n in noise: \n",
    "        X, color=make_swiss_roll(N, noise=n)\n",
    "        Y = lle(n_neighbors, n_components,eigen_solver='auto').fit_transform(X)\n",
    "        tsne=t_sne()\n",
    "        Z=tsne.fit_transform(X)\n",
    "        Xs.append(X)\n",
    "        Ys.append(Y)\n",
    "        Zs.append(Z)\n",
    "        colors.append(color)\n",
    "    return Xs, Ys, Zs, noise, colors\n",
    "\n",
    "def plot_interactive(K, Xs, Ys, Zs, colors, noise):\n",
    "    print('Noise value: ', noise[K])\n",
    "    plot_comparison(Xs[K], Ys[K], Zs[K], colors[K])\n",
    "    #K is an index, an interger from 0 to 19\n",
    "    "
   ]
  },
  {
   "cell_type": "code",
   "execution_count": 4,
   "metadata": {
    "collapsed": true
   },
   "outputs": [],
   "source": [
    "X_s, Y_s, Z_s, noise, color=make_data(1000)\n",
    "\n"
   ]
  },
  {
   "cell_type": "code",
   "execution_count": 5,
   "metadata": {},
   "outputs": [
    {
     "name": "stderr",
     "output_type": "stream",
     "text": [
      "/Users/HeddaVik/anaconda/lib/python3.6/site-packages/traitlets/traitlets.py:567: FutureWarning: comparison to `None` will result in an elementwise object comparison in the future.\n",
      "  silent = bool(old_value == new_value)\n"
     ]
    },
    {
     "data": {
      "application/vnd.jupyter.widget-view+json": {
       "model_id": "a3e798a9431e4dfa90643512a6d4f89e"
      }
     },
     "metadata": {},
     "output_type": "display_data"
    }
   ],
   "source": [
    "a=interact(plot_interactive, K=widgets.IntSlider(min=0,max=19,step=1, value=0), Xs=fixed(X_s),Ys=fixed(Y_s), Zs=fixed(Z_s), colors=fixed(color), noise=fixed(noise))\n"
   ]
  },
  {
   "cell_type": "code",
   "execution_count": null,
   "metadata": {
    "collapsed": true
   },
   "outputs": [],
   "source": []
  },
  {
   "cell_type": "code",
   "execution_count": null,
   "metadata": {
    "collapsed": true
   },
   "outputs": [],
   "source": []
  }
 ],
 "metadata": {
  "kernelspec": {
   "display_name": "Python 3",
   "language": "python",
   "name": "python3"
  },
  "language_info": {
   "codemirror_mode": {
    "name": "ipython",
    "version": 3
   },
   "file_extension": ".py",
   "mimetype": "text/x-python",
   "name": "python",
   "nbconvert_exporter": "python",
   "pygments_lexer": "ipython3",
   "version": "3.6.1"
  }
 },
 "nbformat": 4,
 "nbformat_minor": 2
}
