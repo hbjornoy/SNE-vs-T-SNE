{
 "cells": [
  {
   "cell_type": "code",
   "execution_count": 1,
   "metadata": {
    "collapsed": true
   },
   "outputs": [],
   "source": [
    "#  IMPORTS\n",
    "import numpy as np\n",
    "import pandas as pd\n",
    "import sklearn\n",
    "from sklearn.manifold import TSNE as t_sne\n",
    "from sklearn.datasets import make_swiss_roll \n",
    "from sklearn.manifold import LocallyLinearEmbedding as lle\n",
    "import matplotlib.pyplot as plt\n",
    "# This import is needed to modify the way figure behaves\n",
    "from mpl_toolkits.mplot3d import Axes3D\n",
    "Axes3D\n",
    "%matplotlib inline \n",
    "from ipywidgets import *"
   ]
  },
  {
   "cell_type": "markdown",
   "metadata": {},
   "source": [
    "# Importing Toy Datset: Swiss roll"
   ]
  },
  {
   "cell_type": "code",
   "execution_count": null,
   "metadata": {
    "collapsed": true
   },
   "outputs": [],
   "source": [
    "#how to make a swiss roll dataset and apply tsne and \n",
    "X, color=make_swiss_roll(1000, noise=0.01)\n",
    "n_neighbors=12\n",
    "n_components=2\n",
    "Y = lle(n_neighbors, n_components,eigen_solver='auto').fit_transform(X)\n",
    "tsne=t_sne()\n",
    "Z=tsne.fit_transform(X)\n",
    "plot_comparison(X,Y,Z,color)"
   ]
  },
  {
   "cell_type": "markdown",
   "metadata": {},
   "source": [
    "# Testing hyperparameters\n"
   ]
  },
  {
   "cell_type": "markdown",
   "metadata": {},
   "source": [
    "## LLE: variation of number of neighbours"
   ]
  },
  {
   "cell_type": "code",
   "execution_count": null,
   "metadata": {
    "collapsed": true
   },
   "outputs": [],
   "source": [
    "max_neighbours=40\n",
    "Y=[]\n",
    "for i in range(max_neighbours):\n",
    "    Y.append(lle(i+4, n_components,eigen_solver='auto').fit_transform(X))\n",
    "\n",
    "def plot_y(X,Y,i):\n",
    "    print('The number of neighbours is: ', i+4)\n",
    "    fig = plt.figure(figsize=(14,8))\n",
    "    ax = fig.add_subplot(121, projection='3d')\n",
    "    ax.scatter(X[:, 0], X[:, 1], X[:, 2], c=color, cmap=plt.cm.Spectral)\n",
    "    ax.set_title(\"Original data\")\n",
    "    ax = fig.add_subplot(122)\n",
    "    ax.set_title(\"LLE\")\n",
    "    ax.scatter(Y[i][:, 0], Y[i][:, 1], c=color, cmap=plt.cm.Spectral)\n",
    "    plt.show()\n",
    "\n",
    "\n",
    "interactive(plot_y, X=fixed(X), Y=fixed(Y), color=fixed(color), i=widgets.IntSlider(min=0,max=99,step=1, value=0))"
   ]
  },
  {
   "cell_type": "markdown",
   "metadata": {},
   "source": [
    "## t-SNE: variation of Perplexity"
   ]
  },
  {
   "cell_type": "code",
   "execution_count": null,
   "metadata": {
    "collapsed": true
   },
   "outputs": [],
   "source": [
    "Z=[]\n",
    "\n",
    "per=np.arange(2,73,10) #51)\n",
    "for p in per:\n",
    "    tsne=t_sne(perplexity=p)\n",
    "    Z.append(tsne.fit_transform(X))"
   ]
  },
  {
   "cell_type": "code",
   "execution_count": null,
   "metadata": {
    "collapsed": true
   },
   "outputs": [],
   "source": [
    "def plot_Z(X,Z,i):\n",
    "    print('The perpelxity is', per[i])\n",
    "    fig = plt.figure(figsize=(14,8))\n",
    "    ax = fig.add_subplot(121, projection='3d')\n",
    "    ax.scatter(X[:, 0], X[:, 1], X[:, 2], c=color, cmap=plt.cm.Spectral)\n",
    "    ax.set_title(\"Original data\")\n",
    "    ax = fig.add_subplot(122)\n",
    "    ax.set_title(\"t-SNE\")\n",
    "    ax.scatter(Z[i][:, 0], Z[i][:, 1], c=color, cmap=plt.cm.Spectral)\n",
    "    plt.show()\n",
    "interactive(plot_Z, X=fixed(X), Z=fixed(Z), color=fixed(color), i=widgets.IntSlider(min=0,max=len(per)-1,step=1, value=0))"
   ]
  },
  {
   "cell_type": "code",
   "execution_count": null,
   "metadata": {
    "collapsed": true
   },
   "outputs": [],
   "source": [
    "print(len(per))"
   ]
  },
  {
   "cell_type": "markdown",
   "metadata": {},
   "source": [
    "# Variation of Noise"
   ]
  },
  {
   "cell_type": "code",
   "execution_count": null,
   "metadata": {
    "collapsed": true
   },
   "outputs": [],
   "source": [
    "#i do not really use this one anymore\n",
    "def noise_effect(n):\n",
    "    X, color=make_swiss_roll(1000, noise=n)\n",
    "    n_neighbors=12\n",
    "    n_components=2\n",
    "    Y = lle(n_neighbors, n_components,eigen_solver='auto').fit_transform(X)\n",
    "    tsne=t_sne()\n",
    "    Z=tsne.fit_transform(X)\n",
    "    plot_comparison(X,Y,Z,color)\n",
    "    \n",
    "    \n",
    "def plot_comparison(X, Y, Z, color):\n",
    "    \"\"\" \n",
    "    Plots original data (X), LLE transformation (Y) and t-SNE transformation (Z)\n",
    "    \"\"\"\n",
    "    fig = plt.figure(figsize=(14,8))\n",
    "    ax = fig.add_subplot(131, projection='3d')\n",
    "    ax.scatter(X[:, 0], X[:, 1], X[:, 2], c=color, cmap=plt.cm.Spectral)\n",
    "    ax.set_title(\"Original data\")\n",
    "    ax = fig.add_subplot(132)\n",
    "    ax.set_title(\"LLE\")\n",
    "    ax.scatter(Y[:, 0], Y[:, 1], c=color, cmap=plt.cm.Spectral)\n",
    "    ax = fig.add_subplot(133)\n",
    "    ax.set_title(\"t-sne\")\n",
    "    ax.scatter(Z[:, 0], Z[:, 1], c=color, cmap=plt.cm.Spectral)\n",
    "    plt.show()\n",
    "    \n",
    "def make_data(N=500):\n",
    "    noise=np.linspace(0.01,1,20)\n",
    "    Xs=[]\n",
    "    Ys=[]\n",
    "    Zs=[]\n",
    "    colors=[]\n",
    "    n_neighbors=12\n",
    "    n_components=2\n",
    "    for n in noise: \n",
    "        X, color=make_swiss_roll(N, noise=n)\n",
    "        Y = lle(n_neighbors, n_components,eigen_solver='auto').fit_transform(X)\n",
    "        tsne=t_sne()\n",
    "        Z=tsne.fit_transform(X)\n",
    "        Xs.append(X)\n",
    "        Ys.append(Y)\n",
    "        Zs.append(Z)\n",
    "        colors.append(color)\n",
    "    return Xs, Ys, Zs, noise, colors\n",
    "\n",
    "def plot_interactive(K, Xs, Ys, Zs, colors, noise):\n",
    "    print('Noise value: ', noise[K])\n",
    "    plot_comparison(Xs[K], Ys[K], Zs[K], colors[K])\n",
    "    #K is an index, an interger from 0 to 19\n",
    "    "
   ]
  },
  {
   "cell_type": "code",
   "execution_count": null,
   "metadata": {
    "collapsed": true
   },
   "outputs": [],
   "source": [
    "X_s, Y_s, Z_s, noise, color=make_data(1000)\n",
    "\n"
   ]
  },
  {
   "cell_type": "code",
   "execution_count": null,
   "metadata": {
    "collapsed": true
   },
   "outputs": [],
   "source": [
    "a=interact(plot_interactive, K=widgets.IntSlider(min=0,max=19,step=1, value=0), Xs=fixed(X_s),Ys=fixed(Y_s), Zs=fixed(Z_s), colors=fixed(color), noise=fixed(noise))\n"
   ]
  },
  {
   "cell_type": "code",
   "execution_count": 54,
   "metadata": {
    "collapsed": true
   },
   "outputs": [],
   "source": [
    "from  scipy.stats import norm\n",
    "def reject_point(distance,sigma, threshold=False):\n",
    "    \"\"\" Returns True if point is to be removed, false otherwise\n",
    "    distance: a vector of distances to a given point. \n",
    "    sigma: variance of the gaussian\n",
    "    threshold: if a value is given, then all distances that have a higher probability than threshold to be removed, \n",
    "    are removed. \n",
    "    \"\"\"\n",
    "    n=len(distance)\n",
    "    probability_of_rejecting=norm.pdf(distance, scale=0.1)/norm.pdf(0,scale=0.1)\n",
    "    if not threshold:\n",
    "        return np.random.binomial(1,probability_of_rejecting)==1\n",
    "    else: \n",
    "        return probability_of_rejecting> threshold\n",
    "       "
   ]
  },
  {
   "cell_type": "code",
   "execution_count": 56,
   "metadata": {},
   "outputs": [
    {
     "name": "stdout",
     "output_type": "stream",
     "text": [
      "[-1.         -0.997998   -0.995996   -0.99399399 -0.99199199 -0.98998999\n",
      " -0.98798799 -0.98598599 -0.98398398 -0.98198198 -0.97997998 -0.97797798\n",
      " -0.97597598 -0.97397397 -0.97197197 -0.96996997 -0.96796797 -0.96596597\n",
      " -0.96396396 -0.96196196 -0.95995996 -0.95795796 -0.95595596 -0.95395395\n",
      " -0.95195195 -0.94994995 -0.94794795 -0.94594595 -0.94394394 -0.94194194\n",
      " -0.93993994 -0.93793794 -0.93593594 -0.93393393 -0.93193193 -0.92992993\n",
      " -0.92792793 -0.92592593 -0.92392392 -0.92192192 -0.91991992 -0.91791792\n",
      " -0.91591592 -0.91391391 -0.91191191 -0.90990991 -0.90790791 -0.90590591\n",
      " -0.9039039  -0.9019019  -0.8998999  -0.8978979  -0.8958959  -0.89389389\n",
      " -0.89189189 -0.88988989 -0.88788789 -0.88588589 -0.88388388 -0.88188188\n",
      " -0.87987988 -0.87787788 -0.87587588 -0.87387387 -0.87187187 -0.86986987\n",
      " -0.86786787 -0.86586587 -0.86386386 -0.86186186 -0.85985986 -0.85785786\n",
      " -0.85585586 -0.85385385 -0.85185185 -0.84984985 -0.84784785 -0.84584585\n",
      " -0.84384384 -0.84184184 -0.83983984 -0.83783784 -0.83583584 -0.83383383\n",
      " -0.83183183 -0.82982983 -0.82782783 -0.82582583 -0.82382382 -0.82182182\n",
      " -0.81981982 -0.81781782 -0.81581582 -0.81381381 -0.81181181 -0.80980981\n",
      " -0.80780781 -0.80580581 -0.8038038  -0.8018018  -0.7997998  -0.7977978\n",
      " -0.7957958  -0.79379379 -0.79179179 -0.78978979 -0.78778779 -0.78578579\n",
      " -0.78378378 -0.78178178 -0.77977978 -0.77777778 -0.77577578 -0.77377377\n",
      " -0.77177177 -0.76976977 -0.76776777 -0.76576577 -0.76376376 -0.76176176\n",
      " -0.75975976 -0.75775776 -0.75575576 -0.75375375 -0.75175175 -0.74974975\n",
      " -0.74774775 -0.74574575 -0.74374374 -0.74174174 -0.73973974 -0.73773774\n",
      " -0.73573574 -0.73373373 -0.73173173 -0.72972973 -0.72772773 -0.72572573\n",
      " -0.72372372 -0.72172172 -0.71971972 -0.71771772 -0.71571572 -0.71371371\n",
      " -0.71171171 -0.70970971 -0.70770771 -0.70570571 -0.7037037  -0.7017017\n",
      " -0.6996997  -0.6976977  -0.6956957  -0.69369369 -0.69169169 -0.68968969\n",
      " -0.68768769 -0.68568569 -0.68368368 -0.68168168 -0.67967968 -0.67767768\n",
      " -0.67567568 -0.67367367 -0.67167167 -0.66966967 -0.66766767 -0.66566567\n",
      " -0.66366366 -0.66166166 -0.65965966 -0.65765766 -0.65565566 -0.65365365\n",
      " -0.65165165 -0.64964965 -0.64764765 -0.64564565 -0.64364364 -0.64164164\n",
      " -0.63963964 -0.63763764 -0.63563564 -0.63363363 -0.63163163 -0.62962963\n",
      " -0.62762763 -0.62562563 -0.62362362 -0.62162162 -0.61961962 -0.61761762\n",
      " -0.61561562 -0.61361361 -0.61161161 -0.60960961 -0.60760761 -0.60560561\n",
      " -0.6036036  -0.6016016  -0.5995996  -0.5975976  -0.5955956  -0.59359359\n",
      " -0.59159159 -0.58958959 -0.58758759 -0.58558559 -0.58358358 -0.58158158\n",
      " -0.57957958 -0.57757758 -0.57557558 -0.57357357 -0.57157157 -0.56956957\n",
      " -0.56756757 -0.56556557 -0.56356356 -0.56156156 -0.55955956 -0.55755756\n",
      " -0.55555556 -0.55355355 -0.55155155 -0.54954955 -0.54754755 -0.54554555\n",
      " -0.54354354 -0.54154154 -0.53953954 -0.53753754 -0.53553554 -0.53353353\n",
      " -0.53153153 -0.52952953 -0.52752753 -0.52552553 -0.52352352 -0.52152152\n",
      " -0.51951952 -0.51751752 -0.51551552 -0.51351351 -0.51151151 -0.50950951\n",
      " -0.50750751 -0.50550551 -0.5035035  -0.5015015  -0.4994995  -0.4974975\n",
      " -0.4954955  -0.49349349 -0.49149149 -0.48948949 -0.48748749 -0.48548549\n",
      " -0.48348348 -0.48148148 -0.47947948 -0.47747748 -0.47547548 -0.47347347\n",
      " -0.47147147 -0.46946947 -0.46746747 -0.46546547 -0.46346346 -0.46146146\n",
      " -0.45945946 -0.45745746 -0.45545546 -0.45345345 -0.45145145 -0.44944945\n",
      " -0.44744745 -0.44544545 -0.44344344 -0.44144144 -0.43943944 -0.43743744\n",
      " -0.43543544 -0.43343343 -0.43143143 -0.42942943 -0.42742743 -0.42542543\n",
      " -0.42342342 -0.42142142 -0.41941942 -0.41741742 -0.41541542 -0.41341341\n",
      " -0.41141141 -0.40940941 -0.40740741 -0.40540541 -0.4034034  -0.4014014\n",
      " -0.3993994  -0.3973974  -0.3953954  -0.39339339 -0.39139139 -0.38938939\n",
      " -0.38738739 -0.38538539 -0.38338338 -0.38138138 -0.37937938 -0.37737738\n",
      " -0.37537538 -0.37337337 -0.37137137 -0.36936937 -0.36736737 -0.36536537\n",
      " -0.36336336 -0.36136136 -0.35935936 -0.35735736 -0.35535536 -0.35335335\n",
      " -0.35135135 -0.34934935 -0.34734735 -0.34534535 -0.34334334 -0.34134134\n",
      " -0.33933934 -0.33733734 -0.33533534 -0.33333333 -0.33133133 -0.32932933\n",
      " -0.32732733 -0.32532533 -0.32332332 -0.32132132 -0.31931932 -0.31731732\n",
      " -0.31531532 -0.31331331 -0.31131131 -0.30930931 -0.30730731 -0.30530531\n",
      " -0.3033033  -0.3013013  -0.2992993  -0.2972973  -0.2952953  -0.29329329\n",
      " -0.29129129 -0.28928929 -0.28728729 -0.28528529 -0.28328328 -0.28128128\n",
      " -0.27927928 -0.27727728 -0.27527528 -0.27327327 -0.27127127 -0.26926927\n",
      " -0.26726727 -0.26526527 -0.26326326 -0.26126126 -0.25925926 -0.25725726\n",
      " -0.25525526 -0.25325325 -0.25125125 -0.24924925 -0.24724725 -0.24524525\n",
      " -0.24324324 -0.24124124 -0.23923924 -0.23723724 -0.23523524 -0.23323323\n",
      " -0.23123123 -0.22922923 -0.22722723 -0.22522523 -0.22322322 -0.22122122\n",
      " -0.21921922 -0.21721722 -0.21521522 -0.21321321 -0.21121121 -0.20920921\n",
      " -0.20720721 -0.20520521 -0.2032032  -0.2012012  -0.1991992  -0.1971972\n",
      " -0.1951952  -0.19319319 -0.19119119 -0.18918919 -0.18718719 -0.18518519\n",
      " -0.18318318 -0.18118118 -0.17917918 -0.17717718 -0.17517518 -0.17317317\n",
      " -0.17117117 -0.16916917 -0.16716717 -0.16516517 -0.16316316 -0.16116116\n",
      " -0.15915916 -0.15715716 -0.15515516 -0.15315315 -0.15115115 -0.14914915\n",
      " -0.14714715 -0.14514515 -0.14314314 -0.14114114 -0.13913914 -0.13713714\n",
      " -0.13513514 -0.13313313 -0.13113113 -0.12912913 -0.12712713 -0.12512513\n",
      " -0.12312312 -0.12112112 -0.11911912 -0.11711712 -0.11511512 -0.11311311\n",
      " -0.11111111 -0.10910911 -0.10710711 -0.10510511 -0.1031031  -0.1011011\n",
      " -0.0990991  -0.0970971  -0.0950951  -0.09309309 -0.09109109 -0.08908909\n",
      " -0.08708709 -0.08508509 -0.08308308 -0.08108108 -0.07907908 -0.07707708\n",
      " -0.07507508 -0.07307307 -0.07107107 -0.06906907 -0.06706707 -0.06506507\n",
      " -0.06306306 -0.06106106 -0.05905906 -0.05705706 -0.05505506 -0.05305305\n",
      " -0.05105105 -0.04904905 -0.04704705 -0.04504505 -0.04304304 -0.04104104\n",
      " -0.03903904 -0.03703704 -0.03503504 -0.03303303 -0.03103103 -0.02902903\n",
      " -0.02702703 -0.02502503 -0.02302302 -0.02102102 -0.01901902 -0.01701702\n",
      " -0.01501502 -0.01301301 -0.01101101 -0.00900901 -0.00700701 -0.00500501\n",
      " -0.003003   -0.001001    0.001001    0.003003    0.00500501  0.00700701\n",
      "  0.00900901  0.01101101  0.01301301  0.01501502  0.01701702  0.01901902\n",
      "  0.02102102  0.02302302  0.02502503  0.02702703  0.02902903  0.03103103\n",
      "  0.03303303  0.03503504  0.03703704  0.03903904  0.04104104  0.04304304\n",
      "  0.04504505  0.04704705  0.04904905  0.05105105  0.05305305  0.05505506\n",
      "  0.05705706  0.05905906  0.06106106  0.06306306  0.06506507  0.06706707\n",
      "  0.06906907  0.07107107  0.07307307  0.07507508  0.07707708  0.07907908\n",
      "  0.08108108  0.08308308  0.08508509  0.08708709  0.08908909  0.09109109\n",
      "  0.09309309  0.0950951   0.0970971   0.0990991   0.1011011   0.1031031\n",
      "  0.10510511  0.10710711  0.10910911  0.11111111  0.11311311  0.11511512\n",
      "  0.11711712  0.11911912  0.12112112  0.12312312  0.12512513  0.12712713\n",
      "  0.12912913  0.13113113  0.13313313  0.13513514  0.13713714  0.13913914\n",
      "  0.14114114  0.14314314  0.14514515  0.14714715  0.14914915  0.15115115\n",
      "  0.15315315  0.15515516  0.15715716  0.15915916  0.16116116  0.16316316\n",
      "  0.16516517  0.16716717  0.16916917  0.17117117  0.17317317  0.17517518\n",
      "  0.17717718  0.17917918  0.18118118  0.18318318  0.18518519  0.18718719\n",
      "  0.18918919  0.19119119  0.19319319  0.1951952   0.1971972   0.1991992\n",
      "  0.2012012   0.2032032   0.20520521  0.20720721  0.20920921  0.21121121\n",
      "  0.21321321  0.21521522  0.21721722  0.21921922  0.22122122  0.22322322\n",
      "  0.22522523  0.22722723  0.22922923  0.23123123  0.23323323  0.23523524\n",
      "  0.23723724  0.23923924  0.24124124  0.24324324  0.24524525  0.24724725\n",
      "  0.24924925  0.25125125  0.25325325  0.25525526  0.25725726  0.25925926\n",
      "  0.26126126  0.26326326  0.26526527  0.26726727  0.26926927  0.27127127\n",
      "  0.27327327  0.27527528  0.27727728  0.27927928  0.28128128  0.28328328\n",
      "  0.28528529  0.28728729  0.28928929  0.29129129  0.29329329  0.2952953\n",
      "  0.2972973   0.2992993   0.3013013   0.3033033   0.30530531  0.30730731\n",
      "  0.30930931  0.31131131  0.31331331  0.31531532  0.31731732  0.31931932\n",
      "  0.32132132  0.32332332  0.32532533  0.32732733  0.32932933  0.33133133\n",
      "  0.33333333  0.33533534  0.33733734  0.33933934  0.34134134  0.34334334\n",
      "  0.34534535  0.34734735  0.34934935  0.35135135  0.35335335  0.35535536\n",
      "  0.35735736  0.35935936  0.36136136  0.36336336  0.36536537  0.36736737\n",
      "  0.36936937  0.37137137  0.37337337  0.37537538  0.37737738  0.37937938\n",
      "  0.38138138  0.38338338  0.38538539  0.38738739  0.38938939  0.39139139\n",
      "  0.39339339  0.3953954   0.3973974   0.3993994   0.4014014   0.4034034\n",
      "  0.40540541  0.40740741  0.40940941  0.41141141  0.41341341  0.41541542\n",
      "  0.41741742  0.41941942  0.42142142  0.42342342  0.42542543  0.42742743\n",
      "  0.42942943  0.43143143  0.43343343  0.43543544  0.43743744  0.43943944\n",
      "  0.44144144  0.44344344  0.44544545  0.44744745  0.44944945  0.45145145\n",
      "  0.45345345  0.45545546  0.45745746  0.45945946  0.46146146  0.46346346\n",
      "  0.46546547  0.46746747  0.46946947  0.47147147  0.47347347  0.47547548\n",
      "  0.47747748  0.47947948  0.48148148  0.48348348  0.48548549  0.48748749\n",
      "  0.48948949  0.49149149  0.49349349  0.4954955   0.4974975   0.4994995\n",
      "  0.5015015   0.5035035   0.50550551  0.50750751  0.50950951  0.51151151\n",
      "  0.51351351  0.51551552  0.51751752  0.51951952  0.52152152  0.52352352\n",
      "  0.52552553  0.52752753  0.52952953  0.53153153  0.53353353  0.53553554\n",
      "  0.53753754  0.53953954  0.54154154  0.54354354  0.54554555  0.54754755\n",
      "  0.54954955  0.55155155  0.55355355  0.55555556  0.55755756  0.55955956\n",
      "  0.56156156  0.56356356  0.56556557  0.56756757  0.56956957  0.57157157\n",
      "  0.57357357  0.57557558  0.57757758  0.57957958  0.58158158  0.58358358\n",
      "  0.58558559  0.58758759  0.58958959  0.59159159  0.59359359  0.5955956\n",
      "  0.5975976   0.5995996   0.6016016   0.6036036   0.60560561  0.60760761\n",
      "  0.60960961  0.61161161  0.61361361  0.61561562  0.61761762  0.61961962\n",
      "  0.62162162  0.62362362  0.62562563  0.62762763  0.62962963  0.63163163\n",
      "  0.63363363  0.63563564  0.63763764  0.63963964  0.64164164  0.64364364\n",
      "  0.64564565  0.64764765  0.64964965  0.65165165  0.65365365  0.65565566\n",
      "  0.65765766  0.65965966  0.66166166  0.66366366  0.66566567  0.66766767\n",
      "  0.66966967  0.67167167  0.67367367  0.67567568  0.67767768  0.67967968\n",
      "  0.68168168  0.68368368  0.68568569  0.68768769  0.68968969  0.69169169\n",
      "  0.69369369  0.6956957   0.6976977   0.6996997   0.7017017   0.7037037\n",
      "  0.70570571  0.70770771  0.70970971  0.71171171  0.71371371  0.71571572\n",
      "  0.71771772  0.71971972  0.72172172  0.72372372  0.72572573  0.72772773\n",
      "  0.72972973  0.73173173  0.73373373  0.73573574  0.73773774  0.73973974\n",
      "  0.74174174  0.74374374  0.74574575  0.74774775  0.74974975  0.75175175\n",
      "  0.75375375  0.75575576  0.75775776  0.75975976  0.76176176  0.76376376\n",
      "  0.76576577  0.76776777  0.76976977  0.77177177  0.77377377  0.77577578\n",
      "  0.77777778  0.77977978  0.78178178  0.78378378  0.78578579  0.78778779\n",
      "  0.78978979  0.79179179  0.79379379  0.7957958   0.7977978   0.7997998\n",
      "  0.8018018   0.8038038   0.80580581  0.80780781  0.80980981  0.81181181\n",
      "  0.81381381  0.81581582  0.81781782  0.81981982  0.82182182  0.82382382\n",
      "  0.82582583  0.82782783  0.82982983  0.83183183  0.83383383  0.83583584\n",
      "  0.83783784  0.83983984  0.84184184  0.84384384  0.84584585  0.84784785\n",
      "  0.84984985  0.85185185  0.85385385  0.85585586  0.85785786  0.85985986\n",
      "  0.86186186  0.86386386  0.86586587  0.86786787  0.86986987  0.87187187\n",
      "  0.87387387  0.87587588  0.87787788  0.87987988  0.88188188  0.88388388\n",
      "  0.88588589  0.88788789  0.88988989  0.89189189  0.89389389  0.8958959\n",
      "  0.8978979   0.8998999   0.9019019   0.9039039   0.90590591  0.90790791\n",
      "  0.90990991  0.91191191  0.91391391  0.91591592  0.91791792  0.91991992\n",
      "  0.92192192  0.92392392  0.92592593  0.92792793  0.92992993  0.93193193\n",
      "  0.93393393  0.93593594  0.93793794  0.93993994  0.94194194  0.94394394\n",
      "  0.94594595  0.94794795  0.94994995  0.95195195  0.95395395  0.95595596\n",
      "  0.95795796  0.95995996  0.96196196  0.96396396  0.96596597  0.96796797\n",
      "  0.96996997  0.97197197  0.97397397  0.97597598  0.97797798  0.97997998\n",
      "  0.98198198  0.98398398  0.98598599  0.98798799  0.98998999  0.99199199\n",
      "  0.99399399  0.995996    0.997998    1.        ]\n",
      "[-0.06506507 -0.06306306 -0.06106106 -0.05905906 -0.05705706 -0.05505506\n",
      " -0.05305305 -0.05105105 -0.04904905 -0.04704705 -0.04504505 -0.04304304\n",
      " -0.04104104 -0.03903904 -0.03703704 -0.03503504 -0.03303303 -0.03103103\n",
      " -0.02902903 -0.02702703 -0.02502503 -0.02302302 -0.02102102 -0.01901902\n",
      " -0.01701702 -0.01501502 -0.01301301 -0.01101101 -0.00900901 -0.00700701\n",
      " -0.00500501 -0.003003   -0.001001    0.001001    0.003003    0.00500501\n",
      "  0.00700701  0.00900901  0.01101101  0.01301301  0.01501502  0.01701702\n",
      "  0.01901902  0.02102102  0.02302302  0.02502503  0.02702703  0.02902903\n",
      "  0.03103103  0.03303303  0.03503504  0.03703704  0.03903904  0.04104104\n",
      "  0.04304304  0.04504505  0.04704705  0.04904905  0.05105105  0.05305305\n",
      "  0.05505506  0.05705706  0.05905906  0.06106106  0.06306306  0.06506507]\n",
      "[False False False False False False False False False False False False\n",
      " False False False False False False False False False False False False\n",
      " False False False False False False False False False False False False\n",
      " False False False False False False False False False False False False\n",
      " False False False False False False False False False False False False\n",
      " False False False False False False False False False False False False\n",
      " False False False False False False False False False False False False\n",
      " False False False False False False False False False False False False\n",
      " False False False False False False False False False False False False\n",
      " False False False False False False False False False False False False\n",
      " False False False False False False False False False False False False\n",
      " False False False False False False False False False False False False\n",
      " False False False False False False False False False False False False\n",
      " False False False False False False False False False False False False\n",
      " False False False False False False False False False False False False\n",
      " False False False False False False False False False False False False\n",
      " False False False False False False False False False False False False\n",
      " False False False False False False False False False False False False\n",
      " False False False False False False False False False False False False\n",
      " False False False False False False False False False False False False\n",
      " False False False False False False False False False False False False\n",
      " False False False False False False False False False False False False\n",
      " False False False False False False False False False False False False\n",
      " False False False False False False False False False False False False\n",
      " False False False False False False False False False False False False\n",
      " False False False False False False False False False False False False\n",
      " False False False False False False False False False False False False\n",
      " False False False False False False False False False False False False\n",
      " False False False False False False False False False False False False\n",
      " False False False False False False False False False False False False\n",
      " False False False False False False False False False False False False\n",
      " False False False False False False False False False False False False\n",
      " False False False False False False False False False False False False\n",
      " False False False False False False False False False False False False\n",
      " False False False False False False False False False False False False\n",
      " False False False False False False False False False False False False\n",
      " False False False False False False False False False False False False\n",
      " False False False False False False False False False False False False\n",
      " False False False False False False False False False False False  True\n",
      "  True  True  True  True  True  True  True  True  True  True  True  True\n",
      "  True  True  True  True  True  True  True  True  True  True  True  True\n",
      "  True  True  True  True  True  True  True  True  True  True  True  True\n",
      "  True  True  True  True  True  True  True  True  True  True  True  True\n",
      "  True  True  True  True  True  True  True  True  True  True  True  True\n",
      "  True  True  True  True  True False False False False False False False\n",
      " False False False False False False False False False False False False\n",
      " False False False False False False False False False False False False\n",
      " False False False False False False False False False False False False\n",
      " False False False False False False False False False False False False\n",
      " False False False False False False False False False False False False\n",
      " False False False False False False False False False False False False\n",
      " False False False False False False False False False False False False\n",
      " False False False False False False False False False False False False\n",
      " False False False False False False False False False False False False\n",
      " False False False False False False False False False False False False\n",
      " False False False False False False False False False False False False\n",
      " False False False False False False False False False False False False\n",
      " False False False False False False False False False False False False\n",
      " False False False False False False False False False False False False\n",
      " False False False False False False False False False False False False\n",
      " False False False False False False False False False False False False\n",
      " False False False False False False False False False False False False\n",
      " False False False False False False False False False False False False\n",
      " False False False False False False False False False False False False\n",
      " False False False False False False False False False False False False\n",
      " False False False False False False False False False False False False\n",
      " False False False False False False False False False False False False\n",
      " False False False False False False False False False False False False\n",
      " False False False False False False False False False False False False\n",
      " False False False False False False False False False False False False\n",
      " False False False False False False False False False False False False\n",
      " False False False False False False False False False False False False\n",
      " False False False False False False False False False False False False\n",
      " False False False False False False False False False False False False\n",
      " False False False False False False False False False False False False\n",
      " False False False False False False False False False False False False\n",
      " False False False False False False False False False False False False\n",
      " False False False False False False False False False False False False\n",
      " False False False False False False False False False False False False\n",
      " False False False False False False False False False False False False\n",
      " False False False False False False False False False False False False\n",
      " False False False False False False False False False False False False\n",
      " False False False False False False False False False False False False\n",
      " False False False False]\n"
     ]
    }
   ],
   "source": [
    "distance=[0]\n",
    "sigma=0.1\n",
    "print(x)\n",
    "index=reject_point(x,sigma, threshold=0.8)\n",
    "print(x[index])\n",
    "print(index)"
   ]
  },
  {
   "cell_type": "code",
   "execution_count": 19,
   "metadata": {},
   "outputs": [
    {
     "data": {
      "text/plain": [
       "3.9894228040143269"
      ]
     },
     "execution_count": 19,
     "metadata": {},
     "output_type": "execute_result"
    }
   ],
   "source": [
    "norm.pdf(0, scale=sigma)"
   ]
  },
  {
   "cell_type": "code",
   "execution_count": 29,
   "metadata": {
    "collapsed": true
   },
   "outputs": [],
   "source": [
    "x=np.linspace(-1,1,1000)"
   ]
  },
  {
   "cell_type": "code",
   "execution_count": 30,
   "metadata": {},
   "outputs": [
    {
     "data": {
      "text/plain": [
       "[<matplotlib.lines.Line2D at 0x1a17fa5a20>]"
      ]
     },
     "execution_count": 30,
     "metadata": {},
     "output_type": "execute_result"
    },
    {
     "data": {
      "image/png": "[encoded data removed]",
      "text/plain": [
       "<matplotlib.figure.Figure at 0x1a17e75908>"
      ]
     },
     "metadata": {},
     "output_type": "display_data"
    }
   ],
   "source": [
    "plt.plot(x,norm.pdf(x, scale=0.1)/norm.pdf(0,scale=0.1))"
   ]
  },
  {
   "cell_type": "code",
   "execution_count": 53,
   "metadata": {
    "collapsed": true
   },
   "outputs": [],
   "source": [
    "threshold=0\n",
    "if threshold: \n",
    "    print('ja')"
   ]
  },
  {
   "cell_type": "code",
   "execution_count": 61,
   "metadata": {},
   "outputs": [
    {
     "name": "stdout",
     "output_type": "stream",
     "text": [
      "37\n"
     ]
    }
   ],
   "source": [
    "print(len(np.arange(2,150,4) ))"
   ]
  },
  {
   "cell_type": "code",
   "execution_count": null,
   "metadata": {
    "collapsed": true
   },
   "outputs": [],
   "source": []
  }
 ],
 "metadata": {
  "kernelspec": {
   "display_name": "Python 3",
   "language": "python",
   "name": "python3"
  },
  "language_info": {
   "codemirror_mode": {
    "name": "ipython",
    "version": 3
   },
   "file_extension": ".py",
   "mimetype": "text/x-python",
   "name": "python",
   "nbconvert_exporter": "python",
   "pygments_lexer": "ipython3",
   "version": "3.6.1"
  }
 },
 "nbformat": 4,
 "nbformat_minor": 2
}
